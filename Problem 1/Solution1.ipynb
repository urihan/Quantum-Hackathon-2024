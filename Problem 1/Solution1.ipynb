{
 "cells": [
  {
   "cell_type": "markdown",
   "metadata": {},
   "source": [
    "# Solution 1 "
   ]
  },
  {
   "cell_type": "markdown",
   "metadata": {},
   "source": [
    "Estimate the expectation values of Pauli observables for a given state (for example, $\\langle \\sigma_z,\\sigma_z\\rangle $ for a Bell State $\\frac{|00\\rangle |11\\rangle}{\\sqrt{2}}$) "
   ]
  }
 ],
 "metadata": {
  "language_info": {
   "name": "python"
  }
 },
 "nbformat": 4,
 "nbformat_minor": 2
}
