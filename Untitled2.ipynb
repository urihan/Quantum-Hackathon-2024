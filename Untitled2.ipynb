{
  "nbformat": 4,
  "nbformat_minor": 0,
  "metadata": {
    "colab": {
      "provenance": [],
      "include_colab_link": true
    },
    "kernelspec": {
      "name": "python3",
      "display_name": "Python 3"
    },
    "language_info": {
      "name": "python"
    }
  },
  "cells": [
    {
      "cell_type": "markdown",
      "metadata": {
        "id": "view-in-github",
        "colab_type": "text"
      },
      "source": [
        "<a href=\"https://colab.research.google.com/github/urihan/Quantum-Hackathon-2024/blob/main/Untitled2.ipynb\" target=\"_parent\"><img src=\"https://colab.research.google.com/assets/colab-badge.svg\" alt=\"Open In Colab\"/></a>"
      ]
    },
    {
      "cell_type": "markdown",
      "source": [
        "# Pennylane implemnation"
      ],
      "metadata": {
        "id": "4foAqsZOXtta"
      }
    },
    {
      "cell_type": "code",
      "source": [
        "pip install pennylane"
      ],
      "metadata": {
        "id": "_J5yac8-X--6",
        "colab": {
          "base_uri": "https://localhost:8080/"
        },
        "collapsed": true,
        "outputId": "793df281-9c13-44ae-f1d4-e7e5b55d8c87"
      },
      "execution_count": null,
      "outputs": [
        {
          "output_type": "stream",
          "name": "stdout",
          "text": [
            "Collecting pennylane\n",
            "  Downloading PennyLane-0.36.0-py3-none-any.whl (1.7 MB)\n",
            "\u001b[2K     \u001b[90m━━━━━━━━━━━━━━━━━━━━━━━━━━━━━━━━━━━━━━━━\u001b[0m \u001b[32m1.7/1.7 MB\u001b[0m \u001b[31m17.2 MB/s\u001b[0m eta \u001b[36m0:00:00\u001b[0m\n",
            "\u001b[?25hRequirement already satisfied: numpy<2.0 in /usr/local/lib/python3.10/dist-packages (from pennylane) (1.25.2)\n",
            "Requirement already satisfied: scipy in /usr/local/lib/python3.10/dist-packages (from pennylane) (1.11.4)\n",
            "Requirement already satisfied: networkx in /usr/local/lib/python3.10/dist-packages (from pennylane) (3.3)\n",
            "Collecting rustworkx (from pennylane)\n",
            "  Downloading rustworkx-0.14.2-cp310-cp310-manylinux_2_17_x86_64.manylinux2014_x86_64.whl (2.1 MB)\n",
            "\u001b[2K     \u001b[90m━━━━━━━━━━━━━━━━━━━━━━━━━━━━━━━━━━━━━━━━\u001b[0m \u001b[32m2.1/2.1 MB\u001b[0m \u001b[31m53.4 MB/s\u001b[0m eta \u001b[36m0:00:00\u001b[0m\n",
            "\u001b[?25hRequirement already satisfied: autograd in /usr/local/lib/python3.10/dist-packages (from pennylane) (1.6.2)\n",
            "Requirement already satisfied: toml in /usr/local/lib/python3.10/dist-packages (from pennylane) (0.10.2)\n",
            "Collecting appdirs (from pennylane)\n",
            "  Downloading appdirs-1.4.4-py2.py3-none-any.whl (9.6 kB)\n",
            "Collecting semantic-version>=2.7 (from pennylane)\n",
            "  Downloading semantic_version-2.10.0-py2.py3-none-any.whl (15 kB)\n",
            "Collecting autoray>=0.6.1 (from pennylane)\n",
            "  Downloading autoray-0.6.12-py3-none-any.whl (50 kB)\n",
            "\u001b[2K     \u001b[90m━━━━━━━━━━━━━━━━━━━━━━━━━━━━━━━━━━━━━━━━\u001b[0m \u001b[32m51.0/51.0 kB\u001b[0m \u001b[31m4.3 MB/s\u001b[0m eta \u001b[36m0:00:00\u001b[0m\n",
            "\u001b[?25hRequirement already satisfied: cachetools in /usr/local/lib/python3.10/dist-packages (from pennylane) (5.3.3)\n",
            "Collecting pennylane-lightning>=0.36 (from pennylane)\n",
            "  Downloading PennyLane_Lightning-0.36.0-cp310-cp310-manylinux_2_17_x86_64.manylinux2014_x86_64.whl (19.1 MB)\n",
            "\u001b[2K     \u001b[90m━━━━━━━━━━━━━━━━━━━━━━━━━━━━━━━━━━━━━━━━\u001b[0m \u001b[32m19.1/19.1 MB\u001b[0m \u001b[31m48.9 MB/s\u001b[0m eta \u001b[36m0:00:00\u001b[0m\n",
            "\u001b[?25hRequirement already satisfied: requests in /usr/local/lib/python3.10/dist-packages (from pennylane) (2.31.0)\n",
            "Requirement already satisfied: typing-extensions in /usr/local/lib/python3.10/dist-packages (from pennylane) (4.12.2)\n",
            "Requirement already satisfied: future>=0.15.2 in /usr/local/lib/python3.10/dist-packages (from autograd->pennylane) (0.18.3)\n",
            "Requirement already satisfied: charset-normalizer<4,>=2 in /usr/local/lib/python3.10/dist-packages (from requests->pennylane) (3.3.2)\n",
            "Requirement already satisfied: idna<4,>=2.5 in /usr/local/lib/python3.10/dist-packages (from requests->pennylane) (3.7)\n",
            "Requirement already satisfied: urllib3<3,>=1.21.1 in /usr/local/lib/python3.10/dist-packages (from requests->pennylane) (2.0.7)\n",
            "Requirement already satisfied: certifi>=2017.4.17 in /usr/local/lib/python3.10/dist-packages (from requests->pennylane) (2024.6.2)\n",
            "Installing collected packages: appdirs, semantic-version, rustworkx, autoray, pennylane-lightning, pennylane\n",
            "Successfully installed appdirs-1.4.4 autoray-0.6.12 pennylane-0.36.0 pennylane-lightning-0.36.0 rustworkx-0.14.2 semantic-version-2.10.0\n"
          ]
        }
      ]
    },
    {
      "cell_type": "code",
      "source": [
        "import pennylane as qml\n",
        "import pennylane.numpy as np\n",
        "import matplotlib.pyplot as plt\n",
        "import time\n",
        "\n",
        "np.random.seed(666)"
      ],
      "metadata": {
        "id": "rSV8bI26X9tU"
      },
      "execution_count": null,
      "outputs": []
    },
    {
      "cell_type": "code",
      "source": [
        "def calculate_classical_shadow(circuit_template, params, shadow_size, num_qubits):\n",
        "    \"\"\"\n",
        "    Given a circuit, creates a collection of snapshots consisting of a bit string\n",
        "    and the index of a unitary operation.\n",
        "\n",
        "    Args:\n",
        "        circuit_template (function): A Pennylane QNode.\n",
        "        params (array): Circuit parameters.\n",
        "        shadow_size (int): The number of snapshots in the shadow.\n",
        "        num_qubits (int): The number of qubits in the circuit.\n",
        "\n",
        "    Returns:\n",
        "        Tuple of two numpy arrays. The first array contains measurement outcomes (-1, 1)\n",
        "        while the second array contains the index for the sampled Pauli's (0,1,2=X,Y,Z).\n",
        "        Each row of the arrays corresponds to a distinct snapshot or sample while each\n",
        "        column corresponds to a different qubit.\n",
        "    \"\"\"\n",
        "    # applying the single-qubit Clifford circuit is equivalent to measuring a Pauli\n",
        "    unitary_ensemble = [qml.PauliX, qml.PauliY, qml.PauliZ]\n",
        "\n",
        "    # sample random Pauli measurements uniformly, where 0,1,2 = X,Y,Z\n",
        "    unitary_ids = np.random.randint(0, 3, size=(shadow_size, num_qubits))\n",
        "    outcomes = np.zeros((shadow_size, num_qubits))\n",
        "\n",
        "    for ns in range(shadow_size):\n",
        "        # for each snapshot, add a random Pauli observable at each location\n",
        "        obs = [unitary_ensemble[int(unitary_ids[ns, i])](i) for i in range(num_qubits)]\n",
        "        outcomes[ns, :] = circuit_template(params, observable=obs)\n",
        "\n",
        "    # combine the computational basis outcomes and the sampled unitaries\n",
        "    return (outcomes, unitary_ids)"
      ],
      "metadata": {
        "id": "F0NJNbNMX-KB"
      },
      "execution_count": null,
      "outputs": []
    },
    {
      "cell_type": "code",
      "source": [
        "def snapshot_state(b_list, obs_list):\n",
        "    \"\"\"\n",
        "    Helper function for `shadow_state_reconstruction` that reconstructs\n",
        "     a state from a single snapshot in a shadow.\n",
        "\n",
        "    Implements Eq. (S44) from https://arxiv.org/pdf/2002.08953.pdf\n",
        "\n",
        "    Args:\n",
        "        b_list (array): The list of classical outcomes for the snapshot.\n",
        "        obs_list (array): Indices for the applied Pauli measurement.\n",
        "\n",
        "    Returns:\n",
        "        Numpy array with the reconstructed snapshot.\n",
        "    \"\"\"\n",
        "    num_qubits = len(b_list)\n",
        "\n",
        "    # computational basis states\n",
        "    zero_state = np.array([[1, 0], [0, 0]])\n",
        "    one_state = np.array([[0, 0], [0, 1]])\n",
        "\n",
        "    # local qubit unitaries\n",
        "    phase_z = np.array([[1, 0], [0, -1j]], dtype=complex)\n",
        "    hadamard = qml.matrix(qml.Hadamard(0))\n",
        "    identity = qml.matrix(qml.Identity(0))\n",
        "\n",
        "    # undo the rotations that were added implicitly to the circuit for the Pauli measurements\n",
        "    unitaries = [hadamard, hadamard @ phase_z, identity]\n",
        "\n",
        "    # reconstructing the snapshot state from local Pauli measurements\n",
        "    rho_snapshot = [1]\n",
        "    for i in range(num_qubits):\n",
        "        state = zero_state if b_list[i] == 1 else one_state\n",
        "        U = unitaries[int(obs_list[i])]\n",
        "\n",
        "        # applying Eq. (S44)\n",
        "        local_rho = 3 * (U.conj().T @ state @ U) - identity\n",
        "        rho_snapshot = np.kron(rho_snapshot, local_rho)\n",
        "\n",
        "    return rho_snapshot"
      ],
      "metadata": {
        "id": "GuntkIps6uz0"
      },
      "execution_count": null,
      "outputs": []
    },
    {
      "cell_type": "markdown",
      "source": [
        "#Median_of_Means Code (input: n x 2^n x 2^n array, integer, 2^n x 2^n matrix)\n"
      ],
      "metadata": {
        "id": "h9EWwItfYXsg"
      }
    },
    {
      "cell_type": "code",
      "source": [
        "def median_of_means(shadow_rho,K,Observable):\n",
        "    rho_estimate = np.zeros((K,2**num_qubits,2**num_qubits),dtype=complex)\n",
        "    n = num_snapshot//K\n",
        "    for i in range(K):\n",
        "        for j in range((K-1)*n+1, K*n+1):\n",
        "            rho_estimate[i] += shadow_rho[j]/n\n",
        "\n",
        "\n",
        "\n",
        "    outputset = np.zeros((K,1))\n",
        "\n",
        "    for m in range(K):\n",
        "        outputset[m] = np.trace(rho_estimate[m].dot(Observable))\n",
        "    output = np.median(outputset)\n",
        "    return output"
      ],
      "metadata": {
        "id": "e5B2ZGmqzHRb"
      },
      "execution_count": null,
      "outputs": []
    },
    {
      "cell_type": "markdown",
      "source": [
        "#Example"
      ],
      "metadata": {
        "id": "gi31-6F2Y9Ca"
      }
    },
    {
      "cell_type": "code",
      "source": [
        "num_qubits = 2\n",
        "dev = qml.device('lightning.qubit', wires=num_qubits, shots=1)\n",
        "@qml.qnode(dev)\n",
        "def bell_state_circuit(params,**kwargs):\n",
        "    observables = kwargs.pop(\"observable\")\n",
        "    qml.Hadamard(0)\n",
        "    qml.CNOT(wires=[0,1])\n",
        "    return [qml.expval(o) for o in observables]\n",
        "\n",
        "num_snapshot = 100\n",
        "params = []\n",
        "\n",
        "shadow = calculate_classical_shadow(bell_state_circuit,params,num_snapshot,num_qubits)\n",
        "b_lists , obs_lists = shadow\n",
        "shadow_rho = np.zeros((num_snapshot,2**num_qubits,2**num_qubits),dtype=complex)\n",
        "for i in range(num_snapshot):\n",
        "    shadow_rho[i] = snapshot_state(b_lists[i], obs_lists[i])\n",
        "\n",
        "Observable = np.zeros((4,4))\n",
        "Observable[0][0] = 0.5\n",
        "Observable[0][3] = 0.5\n",
        "Observable[3][0] = 0.5\n",
        "Observable[3][3] = 0.5\n",
        "\n",
        "result = median_of_means(shadow_rho,3,Observable)\n",
        "print (result)"
      ],
      "metadata": {
        "id": "4R1P2pMEY_es",
        "colab": {
          "base_uri": "https://localhost:8080/"
        },
        "outputId": "73e3d508-256e-44fe-e59c-84fe88ce3229"
      },
      "execution_count": null,
      "outputs": [
        {
          "output_type": "stream",
          "name": "stdout",
          "text": [
            "1.0681818181818175\n"
          ]
        },
        {
          "output_type": "stream",
          "name": "stderr",
          "text": [
            "<ipython-input-11-60def205fd6c>:63: ComplexWarning: Casting complex values to real discards the imaginary part\n",
            "  outputset[m] = np.trace(rho_estimate[m].dot(Observable))\n"
          ]
        }
      ]
    },
    {
      "cell_type": "markdown",
      "source": [
        "# 추가 example: noise channel 거친 Bell state"
      ],
      "metadata": {
        "id": "VqbK3bkOmdvR"
      }
    },
    {
      "cell_type": "code",
      "source": [
        "dev = qml.device('default.mixed', wires=num_qubits, shots=1)\n",
        "@qml.qnode(dev)\n",
        "\n",
        "def bell_state_circuit(params,**kwargs):\n",
        "    observables = kwargs.pop(\"observable\")\n",
        "    qml.Hadamard(0)\n",
        "    qml.CNOT(wires=[0,1])\n",
        "    qml.PhaseFlip(0.5,wires=0)\n",
        "    qml.PhaseFlip(0.5,wires=1)\n",
        "    return [qml.expval(o) for o in observables]"
      ],
      "metadata": {
        "id": "-Ha-OiL1mdGR"
      },
      "execution_count": null,
      "outputs": []
    },
    {
      "cell_type": "markdown",
      "source": [
        "#최종본 (모두 합친거) 마지막에 텍스트로 둔게 pure state, 그 위에 코드가 mixed state case"
      ],
      "metadata": {
        "id": "ofRqB0pUmwgd"
      }
    },
    {
      "cell_type": "code",
      "source": [
        "import pennylane as qml\n",
        "import pennylane.numpy as np\n",
        "import matplotlib.pyplot as plt\n",
        "import time\n",
        "\n",
        "def calculate_classical_shadow(circuit_template, params, shadow_size, num_qubits):\n",
        "\n",
        "    # applying the single-qubit Clifford circuit is equivalent to measuring a Pauli\n",
        "    unitary_ensemble = [qml.PauliX, qml.PauliY, qml.PauliZ]\n",
        "\n",
        "    # sample random Pauli measurements uniformly, where 0,1,2 = X,Y,Z\n",
        "    unitary_ids = np.random.randint(0, 3, size=(shadow_size, num_qubits))\n",
        "    outcomes = np.zeros((shadow_size, num_qubits))\n",
        "\n",
        "    for ns in range(shadow_size):\n",
        "        # for each snapshot, add a random Pauli observable at each location\n",
        "        obs = [unitary_ensemble[int(unitary_ids[ns, i])](i) for i in range(num_qubits)]\n",
        "        outcomes[ns, :] = circuit_template(params, observable=obs)\n",
        "\n",
        "    # combine the computational basis outcomes and the sampled unitaries\n",
        "    return (outcomes, unitary_ids)\n",
        "\n",
        "def snapshot_state(b_list, obs_list):\n",
        "\n",
        "    num_qubits = len(b_list)\n",
        "\n",
        "    # computational basis states\n",
        "    zero_state = np.array([[1, 0], [0, 0]])\n",
        "    one_state = np.array([[0, 0], [0, 1]])\n",
        "\n",
        "    # local qubit unitaries\n",
        "    phase_z = np.array([[1, 0], [0, -1j]], dtype=complex)\n",
        "    hadamard = qml.matrix(qml.Hadamard(0))\n",
        "    identity = qml.matrix(qml.Identity(0))\n",
        "\n",
        "    # undo the rotations that were added implicitly to the circuit for the Pauli measurements\n",
        "    unitaries = [hadamard, hadamard @ phase_z, identity]\n",
        "\n",
        "    # reconstructing the snapshot state from local Pauli measurements\n",
        "    rho_snapshot = [1]\n",
        "    for i in range(num_qubits):\n",
        "        state = zero_state if b_list[i] == 1 else one_state\n",
        "        U = unitaries[int(obs_list[i])]\n",
        "\n",
        "        # applying Eq. (S44)\n",
        "        local_rho = 3 * (U.conj().T @ state @ U) - identity\n",
        "        rho_snapshot = np.kron(rho_snapshot, local_rho)\n",
        "\n",
        "    return rho_snapshot\n",
        "\n",
        "def median_of_means(shadow_rho,K,Observable):\n",
        "    rho_estimate = np.zeros((K,2**num_qubits,2**num_qubits),dtype=complex)\n",
        "    n = num_snapshot//K\n",
        "    for i in range(K):\n",
        "        for j in range((K-1)*n+1, K*n+1):\n",
        "            rho_estimate[i] += shadow_rho[j]/n\n",
        "\n",
        "\n",
        "\n",
        "    outputset = np.zeros((K,1))\n",
        "\n",
        "    for m in range(K):\n",
        "        outputset[m] = np.trace(rho_estimate[m].dot(Observable))\n",
        "    output = np.median(outputset)\n",
        "    return output\n",
        "\n",
        "\n",
        "num_qubits = 2\n",
        "dev = qml.device('default.mixed', wires=num_qubits, shots=1)\n",
        "@qml.qnode(dev)\n",
        "\n",
        "def bell_state_circuit(params,**kwargs):\n",
        "    observables = kwargs.pop(\"observable\")\n",
        "    qml.Hadamard(0)\n",
        "    qml.CNOT(wires=[0,1])\n",
        "    qml.PhaseFlip(0.5,wires=0)\n",
        "    qml.PhaseFlip(0.5,wires=1)\n",
        "    return [qml.expval(o) for o in observables]\n",
        "\n",
        "num_snapshot = 100\n",
        "params = []\n",
        "shadow = calculate_classical_shadow(bell_state_circuit,params,num_snapshot,num_qubits)\n",
        "b_lists , obs_lists = shadow\n",
        "shadow_rho = np.zeros((num_snapshot,2**num_qubits,2**num_qubits),dtype=complex)\n",
        "for i in range(num_snapshot):\n",
        "    shadow_rho[i] = snapshot_state(b_lists[i], obs_lists[i])\n",
        "\n",
        "Observable = np.zeros((4,4))\n",
        "Observable[0][0] = 0.5\n",
        "Observable[0][3] = 0.5\n",
        "Observable[3][0] = 0.5\n",
        "Observable[3][3] = 0.5\n",
        "\n",
        "result = median_of_means(shadow_rho,3,Observable)\n",
        "print (result)\n",
        "\n",
        "\n",
        "\n",
        "'''\n",
        "num_qubits = 2\n",
        "dev = qml.device('lightning.qubit', wires=num_qubits, shots=1)\n",
        "@qml.qnode(dev)\n",
        "def bell_state_circuit(params,**kwargs):\n",
        "    observables = kwargs.pop(\"observable\")\n",
        "    qml.Hadamard(0)\n",
        "    qml.CNOT(wires=[0,1])\n",
        "    return [qml.expval(o) for o in observables]\n",
        "\n",
        "num_snapshot = 100\n",
        "params = []\n",
        "\n",
        "shadow = calculate_classical_shadow(bell_state_circuit,params,num_snapshot,num_qubits)\n",
        "b_lists , obs_lists = shadow\n",
        "shadow_rho = np.zeros((num_snapshot,2**num_qubits,2**num_qubits),dtype=complex)\n",
        "for i in range(num_snapshot):\n",
        "    shadow_rho[i] = snapshot_state(b_lists[i], obs_lists[i])\n",
        "\n",
        "Observable = np.zeros((4,4))\n",
        "Observable[0][0] = 0.5\n",
        "Observable[0][3] = 0.5\n",
        "Observable[3][0] = 0.5\n",
        "Observable[3][3] = 0.5\n",
        "\n",
        "result = median_of_means(shadow_rho,3,Observable)\n",
        "print (result)\n",
        "'''"
      ],
      "metadata": {
        "id": "9xIUeU-ImzX6",
        "colab": {
          "base_uri": "https://localhost:8080/",
          "height": 178
        },
        "outputId": "aaad011d-984b-40f8-8157-9447f7d87b53"
      },
      "execution_count": null,
      "outputs": [
        {
          "output_type": "stream",
          "name": "stdout",
          "text": [
            "0.5909090909090906\n"
          ]
        },
        {
          "output_type": "stream",
          "name": "stderr",
          "text": [
            "<ipython-input-11-60def205fd6c>:63: ComplexWarning: Casting complex values to real discards the imaginary part\n",
            "  outputset[m] = np.trace(rho_estimate[m].dot(Observable))\n"
          ]
        },
        {
          "output_type": "execute_result",
          "data": {
            "text/plain": [
              "'\\nnum_qubits = 2\\ndev = qml.device(\\'lightning.qubit\\', wires=num_qubits, shots=1)\\n@qml.qnode(dev)\\ndef bell_state_circuit(params,**kwargs):\\n    observables = kwargs.pop(\"observable\")\\n    qml.Hadamard(0)\\n    qml.CNOT(wires=[0,1])\\n    return [qml.expval(o) for o in observables]\\n\\nnum_snapshot = 100\\nparams = []\\n\\nshadow = calculate_classical_shadow(bell_state_circuit,params,num_snapshot,num_qubits)\\nb_lists , obs_lists = shadow\\nshadow_rho = np.zeros((num_snapshot,2**num_qubits,2**num_qubits),dtype=complex)\\nfor i in range(num_snapshot):\\n    shadow_rho[i] = snapshot_state(b_lists[i], obs_lists[i])\\n\\nObservable = np.zeros((4,4))\\nObservable[0][0] = 0.5\\nObservable[0][3] = 0.5\\nObservable[3][0] = 0.5\\nObservable[3][3] = 0.5\\n\\nresult = median_of_means(shadow_rho,3,Observable)\\nprint (result)\\n'"
            ],
            "application/vnd.google.colaboratory.intrinsic+json": {
              "type": "string"
            }
          },
          "metadata": {},
          "execution_count": 11
        }
      ]
    },
    {
      "cell_type": "code",
      "source": [],
      "metadata": {
        "id": "h9bVQwzQ6zWO"
      },
      "execution_count": null,
      "outputs": []
    },
    {
      "cell_type": "code",
      "source": [
        "import numpy as np\n",
        "import matplotlib.pyplot as plt\n",
        "\n",
        "from qiskit import QuantumCircuit, transpile\n",
        "from qiskit.quantum_info import DensityMatrix, random_clifford, Statevector, Operator, random_density_matrix, state_fidelity\n",
        "from qiskit_aer import AerSimulator\n",
        "from qiskit.circuit.library import IGate, XGate, YGate, ZGate\n",
        "\n",
        "from tqdm import tqdm\n"
      ],
      "metadata": {
        "colab": {
          "base_uri": "https://localhost:8080/",
          "height": 393
        },
        "id": "ieP1FkCu6ub_",
        "outputId": "805d5a08-c42d-4700-81d4-965a756b85cd"
      },
      "execution_count": null,
      "outputs": [
        {
          "output_type": "error",
          "ename": "ModuleNotFoundError",
          "evalue": "No module named 'qiskit'",
          "traceback": [
            "\u001b[0;31m---------------------------------------------------------------------------\u001b[0m",
            "\u001b[0;31mModuleNotFoundError\u001b[0m                       Traceback (most recent call last)",
            "\u001b[0;32m<ipython-input-1-78acdd41ef7c>\u001b[0m in \u001b[0;36m<cell line: 4>\u001b[0;34m()\u001b[0m\n\u001b[1;32m      2\u001b[0m \u001b[0;32mimport\u001b[0m \u001b[0mmatplotlib\u001b[0m\u001b[0;34m.\u001b[0m\u001b[0mpyplot\u001b[0m \u001b[0;32mas\u001b[0m \u001b[0mplt\u001b[0m\u001b[0;34m\u001b[0m\u001b[0;34m\u001b[0m\u001b[0m\n\u001b[1;32m      3\u001b[0m \u001b[0;34m\u001b[0m\u001b[0m\n\u001b[0;32m----> 4\u001b[0;31m \u001b[0;32mfrom\u001b[0m \u001b[0mqiskit\u001b[0m \u001b[0;32mimport\u001b[0m \u001b[0mQuantumCircuit\u001b[0m\u001b[0;34m,\u001b[0m \u001b[0mtranspile\u001b[0m\u001b[0;34m\u001b[0m\u001b[0;34m\u001b[0m\u001b[0m\n\u001b[0m\u001b[1;32m      5\u001b[0m \u001b[0;32mfrom\u001b[0m \u001b[0mqiskit\u001b[0m\u001b[0;34m.\u001b[0m\u001b[0mquantum_info\u001b[0m \u001b[0;32mimport\u001b[0m \u001b[0mDensityMatrix\u001b[0m\u001b[0;34m,\u001b[0m \u001b[0mrandom_clifford\u001b[0m\u001b[0;34m,\u001b[0m \u001b[0mStatevector\u001b[0m\u001b[0;34m,\u001b[0m \u001b[0mOperator\u001b[0m\u001b[0;34m,\u001b[0m \u001b[0mrandom_density_matrix\u001b[0m\u001b[0;34m,\u001b[0m \u001b[0mstate_fidelity\u001b[0m\u001b[0;34m\u001b[0m\u001b[0;34m\u001b[0m\u001b[0m\n\u001b[1;32m      6\u001b[0m \u001b[0;32mfrom\u001b[0m \u001b[0mqiskit_aer\u001b[0m \u001b[0;32mimport\u001b[0m \u001b[0mAerSimulator\u001b[0m\u001b[0;34m\u001b[0m\u001b[0;34m\u001b[0m\u001b[0m\n",
            "\u001b[0;31mModuleNotFoundError\u001b[0m: No module named 'qiskit'",
            "",
            "\u001b[0;31m---------------------------------------------------------------------------\u001b[0;32m\nNOTE: If your import is failing due to a missing package, you can\nmanually install dependencies using either !pip or !apt.\n\nTo view examples of installing some common dependencies, click the\n\"Open Examples\" button below.\n\u001b[0;31m---------------------------------------------------------------------------\u001b[0m\n"
          ],
          "errorDetails": {
            "actions": [
              {
                "action": "open_url",
                "actionText": "Open Examples",
                "url": "/notebooks/snippets/importing_libraries.ipynb"
              }
            ]
          }
        }
      ]
    },
    {
      "cell_type": "code",
      "source": [
        "\n",
        "# Define |0> and |1>\n",
        "ket_0 = np.array([[1,0]]).T\n",
        "ket_1 = np.array([[0,1]]).T"
      ],
      "metadata": {
        "id": "oq_smp7x9Nre"
      },
      "execution_count": null,
      "outputs": []
    },
    {
      "cell_type": "code",
      "source": [
        "def measure_by_clifford(phi, num_qubit, num_clifford):\n",
        "    \"\"\"\n",
        "    After applying Clifford operation on rho, obtain measurement in the computational basis\n",
        "    \"\"\"\n",
        "    # Use the Clifford class of Paddle Quantum to randomly select a Clifford operator and generate its circuit\n",
        "    cir = QuantumCircuit(num_qubit)\n",
        "\n",
        "    cir_init = QuantumCircuit(num_qubit)\n",
        "    cir_init.set_density_matrix(phi)\n",
        "\n",
        "    for i in range(num_clifford):\n",
        "        clif = random_clifford(num_qubit)\n",
        "        # Run the circuit\n",
        "        cir.append(clif, list(np.arange(num_qubit)))\n",
        "\n",
        "    # Get the unitary implemented by the circuit\n",
        "    cl = Operator(cir).data\n",
        "    cir = cir_init.compose(cir, list(range(num_qubit)))\n",
        "\n",
        "    # Single measurement\n",
        "    simulator = AerSimulator()\n",
        "    cir.measure_all()\n",
        "    transpiled_qc = transpile(cir, simulator)\n",
        "    result = simulator.run(transpiled_qc, shots=1).result()\n",
        "    bitstring = [k for k, v in result.get_counts().items() if v == 1.0]\n",
        "\n",
        "    # Use this to record results of measurement\n",
        "    bhat = [[1.]]\n",
        "    for i in bitstring[0]:\n",
        "        if i == '0':\n",
        "            bhat = np.kron(bhat, ket_0)\n",
        "        elif i == '1':\n",
        "            bhat = np.kron(bhat, ket_1)\n",
        "    return bhat, cl, cir"
      ],
      "metadata": {
        "id": "1VB7CPP76w8p"
      },
      "execution_count": null,
      "outputs": []
    },
    {
      "cell_type": "code",
      "source": [
        "# Number of qubits\n",
        "n_qubit = 2\n",
        "\n",
        "# Randomly generate a state\n",
        "rho_random = random_density_matrix((2,)*n_qubit)\n",
        "rho_bell = DensityMatrix(np.array([[0.5, 0, 0, 0.5],[0,0,0,0],[0,0,0,0],[0.5, 0, 0, 0.5]]))\n",
        "\n",
        "# Define I and coefficient\n",
        "I = np.eye(2**n_qubit)\n",
        "coefficient = float(2**n_qubit + 1)"
      ],
      "metadata": {
        "id": "zipQQHxk6yVY"
      },
      "execution_count": null,
      "outputs": []
    },
    {
      "cell_type": "code",
      "source": [
        "# Select the number of samples\n",
        "S = 6000\n",
        "\n",
        "tracedistance = [[],[],[],[],[]] # # of clifford gate = 1,3,5,10,15\n",
        "num_clifford = [1,3,5,10,15]\n",
        "\n",
        "for k in range(5):\n",
        "    estimator_rho = []\n",
        "    for sample in tqdm(range(S)):\n",
        "        bhat, cl, example = measure_by_clifford(rho_bell, n_qubit, num_clifford[k])\n",
        "\n",
        "        # Get the shadow according to the deduced M inverse\n",
        "        hat_rho = coefficient * cl.conj().T @ bhat @ bhat.T @ cl - I\n",
        "        estimator_rho.append(hat_rho)\n",
        "\n",
        "        # Compute the average of the shadows\n",
        "        # Since in actual operation, we cannot achieve the expectation value in (3), we can only approximate rho by averaging the classical shadow obtained.\n",
        "        ave_estimate = sum(estimator_rho) / len(estimator_rho)\n",
        "\n",
        "        # Calculate trace distance\n",
        "        tracedistance[k].append(np.linalg.norm(rho_random-ave_estimate, ord=1)*0.5)"
      ],
      "metadata": {
        "id": "6bjhw9Q76zfa"
      },
      "execution_count": null,
      "outputs": []
    },
    {
      "cell_type": "code",
      "source": [
        "# Print out the result\n",
        "fig,ax = plt.subplots(figsize=(10, 10))\n",
        "\n",
        "plt.xlabel('number of samples', fontsize=18)\n",
        "plt.ylabel('Trace distance', fontsize=18)\n",
        "j = range(len(tracedistance[0]))\n",
        "plt.plot(j, tracedistance[0], label=\"Clifford num = 1\")\n",
        "plt.plot(j, tracedistance[1], label=\"Clifford num = 3\")\n",
        "plt.plot(j, tracedistance[2], label=\"Clifford num = 5\")\n",
        "plt.plot(j, tracedistance[3], label=\"Clifford num = 10\")\n",
        "plt.plot(j, tracedistance[4], label=\"Clifford num = 20\")\n",
        "\"\"\"open the grid\"\"\"\n",
        "plt.grid(True)\n",
        "plt.title(\"Trace distacne in differenct number of Clifford gates (Bell State)\")\n",
        "plt.legend(fontsize=14)\n",
        "plt.show()"
      ],
      "metadata": {
        "id": "BPKnSPc060zV"
      },
      "execution_count": null,
      "outputs": []
    },
    {
      "cell_type": "code",
      "source": [],
      "metadata": {
        "id": "bx1ygaoZWEZP"
      },
      "execution_count": null,
      "outputs": []
    },
    {
      "cell_type": "code",
      "source": [
        "import numpy as np\n",
        "\n",
        "from qiskit import QuantumCircuit, transpile\n",
        "from qiskit.quantum_info import DensityMatrix, random_clifford, Statevector, Operator, random_density_matrix\n",
        "from qiskit_aer import AerSimulator\n",
        "from qiskit.circuit.library import IGate, XGate, YGate, ZGate\n",
        "\n",
        "from tqdm import tqdm\n"
      ],
      "metadata": {
        "id": "muLOE-YtWEg9"
      },
      "execution_count": null,
      "outputs": []
    },
    {
      "cell_type": "code",
      "source": [
        "class Classical_shadow:\n",
        "    def __init__(self, init_density, sample_N):\n",
        "        self.init_density = init_density\n",
        "        self.num_qubits = init_density.num_qubits\n",
        "        self.circuit = QuantumCircuit(self.num_qubits)\n",
        "        self.operator_lists = None\n",
        "        self.sample_N = sample_N\n",
        "        self.group_K = None\n",
        "        self.unitary_N = None\n",
        "        self.random_method = None\n",
        "        self.random_unitary = None\n",
        "        self.individual_unitary = None # For random pauli\n",
        "        self.rho_list=[]\n",
        "        self.group_rho_list=[]\n",
        "        self.trace_data=None\n",
        "\n",
        "    def get_random_unitary(self, method): # method = \"pauli\", \"n-clifford\", \"user-defined\"\n",
        "        # return : (operator, qubits : list)\n",
        "        if method == \"n-clifford\":\n",
        "            applied_qubit = np.arange(self.num_qubits)\n",
        "            random_unitary = random_clifford(self.num_qubits)\n",
        "            return (random_unitary, list(applied_qubit))\n",
        "\n",
        "    def add_random_unitary(self, method, unitary_N):\n",
        "        self.random_method = method\n",
        "        self.unitary_N = unitary_N\n",
        "        for i in range(unitary_N):\n",
        "            temp = self.get_random_unitary(method)\n",
        "            self.circuit.append(temp[0], temp[1])\n",
        "\n",
        "        # Calculate circuit unitary matrix\n",
        "        self.random_unitary = Operator(self.circuit)\n",
        "        init = QuantumCircuit(self.num_qubits)\n",
        "        init.set_density_matrix(self.init_density)\n",
        "        self.circuit = init.compose(self.circuit, list(range(self.num_qubits)))\n",
        "\n",
        "    def reconstruct_density(self, method, unitary_N):\n",
        "        self.add_random_unitary(method, unitary_N)\n",
        "        simulator = AerSimulator()\n",
        "        self.circuit.measure_all()\n",
        "        transpiled_qc = transpile(self.circuit, simulator)\n",
        "        result = simulator.run(transpiled_qc, shots=1).result()\n",
        "\n",
        "        if method == \"n-clifford\":\n",
        "            basis = Statevector.from_label(list(result.get_counts().keys())[0]).data.reshape(1,-1)\n",
        "            basis = basis * basis.T\n",
        "            rho = (2**(self.num_qubits) + 1) * self.random_unitary.data.conj().T @ basis @ self.random_unitary.data - np.eye(2**self.num_qubits)\n",
        "            return rho\n",
        "\n",
        "    def prediction_multi(self, method, unitary_N, observable_list, K):\n",
        "        self.group_K = K\n",
        "        for i in tqdm(range(self.sample_N)):\n",
        "            self.initialize()\n",
        "            self.rho_list.append(self.reconstruct_density(method, unitary_N))\n",
        "\n",
        "        group_n = self.sample_N // K\n",
        "        observable_n = len(observable_list)\n",
        "        temp=0.0\n",
        "        for i in range(group_n):\n",
        "            for j in range(K):\n",
        "                temp=temp+self.rho_list[i*K+j]\n",
        "            self.group_rho_list.append(temp/K)\n",
        "            temp=0.0\n",
        "\n",
        "        result=[]\n",
        "\n",
        "        for ind, observable in enumerate(observable_list):\n",
        "            temp=[]\n",
        "            for i in self.group_rho_list:\n",
        "                temp.append(np.trace(i @ observable))\n",
        "            self.trace_data = np.array(temp, dtype=float)\n",
        "            result.append(np.median(np.array(temp,dtype=float)))\n",
        "\n",
        "        return result\n",
        "\n",
        "    def prediction(self, method, unitary_N, observable, K):\n",
        "        self.group_K = K\n",
        "        for i in tqdm(range(self.sample_N)):\n",
        "            self.initialize()\n",
        "            self.rho_list.append(self.reconstruct_density(method, unitary_N))\n",
        "\n",
        "        group_n = self.sample_N // K\n",
        "        temp=0.0\n",
        "        for i in range(group_n):\n",
        "            for j in range(K):\n",
        "                temp=temp+self.rho_list[i*K+j]\n",
        "            self.group_rho_list.append(temp/K)\n",
        "            temp=0.0\n",
        "\n",
        "        temp=[]\n",
        "        for i in self.group_rho_list:\n",
        "            temp.append(np.trace(i @ observable))\n",
        "        self.trace_data = np.array(temp, dtype=float)\n",
        "\n",
        "        return np.median(np.array(temp,dtype=float))\n",
        "\n",
        "    def initialize(self):\n",
        "        self.circuit = QuantumCircuit(self.num_qubits)\n",
        "\n",
        "    def draw_circuit(self):\n",
        "        return self.circuit.draw()\n"
      ],
      "metadata": {
        "id": "KTfBAzgaWFlL"
      },
      "execution_count": null,
      "outputs": []
    },
    {
      "cell_type": "code",
      "source": [
        "rho_bell = DensityMatrix(np.array([[0.5, 0, 0, 0.5],[0,0,0,0],[0,0,0,0],[0.5, 0, 0, 0.5]]))\n",
        "\n",
        "observable_list =[None, None, None, None]\n",
        "observable_list[0] = np.kron(XGate().to_matrix(),XGate().to_matrix())\n",
        "observable_list[1] = np.kron(YGate().to_matrix(),YGate().to_matrix())\n",
        "observable_list[2] = np.kron(ZGate().to_matrix(),ZGate().to_matrix())\n",
        "observable_list[3] = np.kron(IGate().to_matrix(),IGate().to_matrix())\n",
        "\n",
        "shadow = Classical_shadow(rho_bell,1000)\n",
        "result = shadow.prediction_multi(\"n-clifford\",10,observable_list,10)\n",
        "print(result)"
      ],
      "metadata": {
        "id": "fLlfiWIdWGaS"
      },
      "execution_count": null,
      "outputs": []
    }
  ]
}